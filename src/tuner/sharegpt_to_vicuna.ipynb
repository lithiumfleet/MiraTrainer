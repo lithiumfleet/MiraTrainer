{
 "cells": [
  {
   "cell_type": "code",
   "execution_count": 7,
   "metadata": {},
   "outputs": [],
   "source": [
    "import json\n",
    "from datasets import load_dataset, Dataset\n",
    "from transformers import AutoTokenizer"
   ]
  },
  {
   "cell_type": "code",
   "execution_count": 8,
   "metadata": {},
   "outputs": [],
   "source": [
    "sharegpt_ds = load_dataset(\"/data/lixubin/MiraTrainer/src/data/sft\")"
   ]
  },
  {
   "cell_type": "code",
   "execution_count": 9,
   "metadata": {},
   "outputs": [
    {
     "name": "stderr",
     "output_type": "stream",
     "text": [
      "Special tokens have been added in the vocabulary, make sure the associated word embeddings are fine-tuned or trained.\n"
     ]
    }
   ],
   "source": [
    "tokenizer = AutoTokenizer.from_pretrained('/data/lixubin/models/Qwen/Qwen1.5-7B-Chat/')\n",
    "def trans_format(example):\n",
    "    \"\"\"\n",
    "    an example in Vicuna format: \n",
    "        {\n",
    "            \"id\": 1,\n",
    "            \"conversations\": [\n",
    "                { \"role\": \"user\", \"content\": \"\" },\n",
    "                { \"role\": \"assistant\", \"content\": \"\" },\n",
    "                { \"role\": \"user\", \"content\": \"\" },\n",
    "                { \"role\": \"assistant\", \"content\": \"\" }\n",
    "            ]\n",
    "        }\n",
    "    \"\"\"\n",
    "    history = example['history']+[example['instruction']+example['input'], example['output']]\n",
    "    converstaions = []\n",
    "    for pair in history:\n",
    "        converstaions.append( {\"role\":\"user\",      \"content\":pair[0]} )\n",
    "        converstaions.append( {\"role\":\"assistant\", \"content\":pair[1]} )\n",
    "\n",
    "    return { \"conversations\": tokenizer.apply_chat_template(converstaions) }\n",
    "\n"
   ]
  },
  {
   "cell_type": "code",
   "execution_count": 10,
   "metadata": {},
   "outputs": [
    {
     "data": {
      "text/plain": [
       "Dataset({\n",
       "    features: ['instruction', 'input', 'history', 'output'],\n",
       "    num_rows: 147\n",
       "})"
      ]
     },
     "execution_count": 10,
     "metadata": {},
     "output_type": "execute_result"
    }
   ],
   "source": [
    "sharegpt_ds['train']"
   ]
  },
  {
   "cell_type": "code",
   "execution_count": 11,
   "metadata": {},
   "outputs": [
    {
     "name": "stderr",
     "output_type": "stream",
     "text": [
      "Map: 100%|██████████| 147/147 [00:00<00:00, 1368.23 examples/s]\n"
     ]
    }
   ],
   "source": [
    "vicuna_ds = sharegpt_ds.map(\n",
    "    trans_format,\n",
    "    remove_columns=['instruction', 'input', 'history', 'output']\n",
    ")"
   ]
  },
  {
   "cell_type": "code",
   "execution_count": 12,
   "metadata": {},
   "outputs": [
    {
     "data": {
      "text/plain": [
       "DatasetDict({\n",
       "    train: Dataset({\n",
       "        features: ['conversations'],\n",
       "        num_rows: 147\n",
       "    })\n",
       "})"
      ]
     },
     "execution_count": 12,
     "metadata": {},
     "output_type": "execute_result"
    }
   ],
   "source": [
    "vicuna_ds"
   ]
  },
  {
   "cell_type": "code",
   "execution_count": null,
   "metadata": {},
   "outputs": [],
   "source": []
  }
 ],
 "metadata": {
  "kernelspec": {
   "display_name": ".env",
   "language": "python",
   "name": "python3"
  },
  "language_info": {
   "codemirror_mode": {
    "name": "ipython",
    "version": 3
   },
   "file_extension": ".py",
   "mimetype": "text/x-python",
   "name": "python",
   "nbconvert_exporter": "python",
   "pygments_lexer": "ipython3",
   "version": "3.11.8"
  }
 },
 "nbformat": 4,
 "nbformat_minor": 2
}
